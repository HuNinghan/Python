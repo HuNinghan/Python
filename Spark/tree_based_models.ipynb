{
 "cells": [
  {
   "cell_type": "code",
   "execution_count": 1,
   "metadata": {},
   "outputs": [
    {
     "name": "stdout",
     "output_type": "stream",
     "text": [
      "Requirement already satisfied: pyspark in c:\\users\\ks447az\\anaconda3\\lib\\site-packages (3.4.1)Note: you may need to restart the kernel to use updated packages.\n",
      "\n",
      "Requirement already satisfied: py4j==0.10.9.7 in c:\\users\\ks447az\\anaconda3\\lib\\site-packages (from pyspark) (0.10.9.7)\n"
     ]
    }
   ],
   "source": [
    "pip install pyspark"
   ]
  },
  {
   "cell_type": "code",
   "execution_count": 2,
   "metadata": {},
   "outputs": [
    {
     "name": "stdout",
     "output_type": "stream",
     "text": [
      "Note: you may need to restart the kernel to use updated packages.\n"
     ]
    },
    {
     "name": "stderr",
     "output_type": "stream",
     "text": [
      "WARNING: Retrying (Retry(total=4, connect=None, read=None, redirect=None, status=None)) after connection broken by 'NewConnectionError('<pip._vendor.urllib3.connection.HTTPSConnection object at 0x00000252651AE130>: Failed to establish a new connection: [Errno 11001] getaddrinfo failed')': /simple/spark/\n",
      "WARNING: Retrying (Retry(total=3, connect=None, read=None, redirect=None, status=None)) after connection broken by 'NewConnectionError('<pip._vendor.urllib3.connection.HTTPSConnection object at 0x00000252651AE460>: Failed to establish a new connection: [Errno 11001] getaddrinfo failed')': /simple/spark/\n",
      "WARNING: Retrying (Retry(total=2, connect=None, read=None, redirect=None, status=None)) after connection broken by 'NewConnectionError('<pip._vendor.urllib3.connection.HTTPSConnection object at 0x00000252651AE760>: Failed to establish a new connection: [Errno 11001] getaddrinfo failed')': /simple/spark/\n",
      "WARNING: Retrying (Retry(total=1, connect=None, read=None, redirect=None, status=None)) after connection broken by 'NewConnectionError('<pip._vendor.urllib3.connection.HTTPSConnection object at 0x00000252651AE910>: Failed to establish a new connection: [Errno 11001] getaddrinfo failed')': /simple/spark/\n",
      "WARNING: Retrying (Retry(total=0, connect=None, read=None, redirect=None, status=None)) after connection broken by 'NewConnectionError('<pip._vendor.urllib3.connection.HTTPSConnection object at 0x00000252651AEAC0>: Failed to establish a new connection: [Errno 11001] getaddrinfo failed')': /simple/spark/\n",
      "ERROR: Could not find a version that satisfies the requirement spark (from versions: none)\n",
      "ERROR: No matching distribution found for spark\n"
     ]
    }
   ],
   "source": [
    "pip install spark"
   ]
  },
  {
   "cell_type": "code",
   "execution_count": null,
   "metadata": {},
   "outputs": [],
   "source": [
    "from datetime import date\n",
    "import numpy as np\n",
    "import pyspark.sql.functions as F"
   ]
  },
  {
   "cell_type": "code",
   "execution_count": null,
   "metadata": {},
   "outputs": [],
   "source": [
    "def get_confusionmatrix(df_pred, label_col='label', prediction_col='predication'):\n",
    "    df_pred.select(prediction_col,label_col)\\\n",
    "        .withColumn('TP', (F.col(prediction_col)==F.lit(1)) & (F.col(label_col)==F.lit(1))).cast('int')\\\n",
    "        .withColumn('TN', (F.col(prediction_col)==F.lit(0)) & (F.col(label_col)==F.lit(0))).cast('int')\\\n",
    "        .withColumn('FP', (F.col(prediction_col)==F.lit(1)) & (F.col(label_col)==F.lit(0))).cast('int')\\\n",
    "        .withColumn('FN', (F.col(prediction_col)==F.lit(0)) & (F.col(label_col)==F.lit(1))).cast('int')"
   ]
  },
  {
   "cell_type": "markdown",
   "metadata": {},
   "source": [
    "Prepare data for model"
   ]
  },
  {
   "cell_type": "code",
   "execution_count": null,
   "metadata": {},
   "outputs": [],
   "source": [
    "from spark.ml.feature import VectorAssembler"
   ]
  },
  {
   "cell_type": "code",
   "execution_count": null,
   "metadata": {},
   "outputs": [],
   "source": [
    "df = spark.sql(\"\"\"select * from customer_t\"\"\")"
   ]
  },
  {
   "cell_type": "code",
   "execution_count": null,
   "metadata": {},
   "outputs": [],
   "source": [
    "# train test split\n",
    "(df_train, df_test) = df.randomSplit([0.8, 0.2])"
   ]
  },
  {
   "cell_type": "markdown",
   "metadata": {},
   "source": [
    "Scale data"
   ]
  },
  {
   "cell_type": "code",
   "execution_count": null,
   "metadata": {},
   "outputs": [],
   "source": [
    "from pyspark.ml.feature import StandardScaler"
   ]
  },
  {
   "cell_type": "code",
   "execution_count": null,
   "metadata": {},
   "outputs": [],
   "source": [
    "# features:\n",
    "inputCols = ['col1','col2','col3']\n",
    "assembler = VectorAssembler(inputCols=inputCols, outputCol='features')\n",
    "scaler = StandardScaler(inputCol='features', outputCol='label')\n",
    "\n",
    "df_train = assembler.transform(df_train).select('label','features')\n",
    "scaler_model = scaler.fit(df_train)\n",
    "df_train = scaler_model.transform(df_train)\n",
    "\n",
    "# target:\n",
    "df_test = assembler.transform(df_test).select('label','features')\n",
    "df_test = scaler_model.transform(df_test)"
   ]
  },
  {
   "cell_type": "markdown",
   "metadata": {},
   "source": [
    "Run tree based model"
   ]
  },
  {
   "cell_type": "code",
   "execution_count": 3,
   "metadata": {},
   "outputs": [],
   "source": [
    "from pyspark.ml import Pipeline\n",
    "from pyspark.ml.classification import RandomForestClassifier, GBTClassifier, DecisionTreeClassifier"
   ]
  },
  {
   "cell_type": "code",
   "execution_count": null,
   "metadata": {},
   "outputs": [],
   "source": [
    "dtc = DecisionTreeClassifier()\n",
    "rfc = RandomForestClassifier(numTrees=100)\n",
    "gbt = GBTClassifier()"
   ]
  },
  {
   "cell_type": "code",
   "execution_count": null,
   "metadata": {},
   "outputs": [],
   "source": [
    "dtc_model = dtc.fit(df_train)\n",
    "rfc_model = rfc.fit(df_train)\n",
    "gbt_model = gbt.fit(df_train)"
   ]
  },
  {
   "cell_type": "markdown",
   "metadata": {},
   "source": [
    "Evaluate"
   ]
  },
  {
   "cell_type": "code",
   "execution_count": null,
   "metadata": {},
   "outputs": [],
   "source": [
    "from pyspark.ml.evaluation import BinaryClassificationEvaluator, MulticlassClassificationEvaluator"
   ]
  },
  {
   "cell_type": "code",
   "execution_count": null,
   "metadata": {},
   "outputs": [],
   "source": [
    "dtc_preds = dtc_model.transform(df_test)\n",
    "rfc_preds = rfc_model.transform(df_test)\n",
    "gbt_preds = gbt_model.transform(df_test)"
   ]
  },
  {
   "cell_type": "code",
   "execution_count": null,
   "metadata": {},
   "outputs": [],
   "source": [
    "acc_eval = MulticlassClassificationEvaluator(metricName='accuracy')\n",
    "binary_eval = BinaryClassificationEvaluator()"
   ]
  },
  {
   "cell_type": "code",
   "execution_count": null,
   "metadata": {},
   "outputs": [],
   "source": [
    "for model_name, model_pred in zip(['DecisionTreeClassifier','RandomForestClassifier','GBTClassifier'], [dtc_preds,rfc_preds,gbt_preds]):\n",
    "    print(model_name)\n",
    "    print('Accuracy: ', round(acc_eval.evaluate(model_pred),4))\n",
    "    print('areaUnderROC: ', round(binary_eval.evaluate(model_pred),4))\n",
    "    print('------'*5)"
   ]
  },
  {
   "cell_type": "markdown",
   "metadata": {},
   "source": [
    "Feature importance"
   ]
  },
  {
   "cell_type": "code",
   "execution_count": null,
   "metadata": {},
   "outputs": [],
   "source": [
    "for model_name, model in zip(['DecisionTreeClassifier','RandomForestClassifier','GBTClassifier'], [dtc_model,rfc_model,gbt_model]):\n",
    "    print(model_name, \" Feature Importance: \")\n",
    "    for v, c in zip(inputCols, model.featureImportances):\n",
    "        print(v, round(c, 6))"
   ]
  },
  {
   "cell_type": "markdown",
   "metadata": {},
   "source": [
    "Confusion matrix"
   ]
  },
  {
   "cell_type": "code",
   "execution_count": null,
   "metadata": {},
   "outputs": [],
   "source": [
    "for model_name, model_pred in zip(['DecisionTreeClassifier','RandomForestClassifier','GBTClassifier'], [dtc_preds,rfc_preds,gbt_preds]):\n",
    "    print(model_name)\n",
    "    get_confusionmatrix(model_pred)\n",
    "    print(\"----\"*5)"
   ]
  }
 ],
 "metadata": {
  "kernelspec": {
   "display_name": "base",
   "language": "python",
   "name": "python3"
  },
  "language_info": {
   "codemirror_mode": {
    "name": "ipython",
    "version": 3
   },
   "file_extension": ".py",
   "mimetype": "text/x-python",
   "name": "python",
   "nbconvert_exporter": "python",
   "pygments_lexer": "ipython3",
   "version": "3.9.13"
  }
 },
 "nbformat": 4,
 "nbformat_minor": 2
}
